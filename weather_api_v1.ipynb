{
 "cells": [
  {
   "cell_type": "code",
   "execution_count": null,
   "id": "83c4c78b",
   "metadata": {},
   "outputs": [],
   "source": [
    "baseurl = \"http://api.weatherapi.com/v1\"\n",
    "key = #\"my_api_key\""
   ]
  },
  {
   "cell_type": "code",
   "execution_count": 3,
   "id": "26a2abad",
   "metadata": {},
   "outputs": [],
   "source": [
    "#http://api.weatherapi.com/v1/current.json?key=<YOUR_API_KEY>&q=London"
   ]
  },
  {
   "cell_type": "code",
   "execution_count": 4,
   "id": "9054f946",
   "metadata": {},
   "outputs": [],
   "source": [
    "import requests\n",
    "import pandas as pd"
   ]
  },
  {
   "cell_type": "code",
   "execution_count": 5,
   "id": "a105a620",
   "metadata": {},
   "outputs": [],
   "source": [
    "city = \"Louisville\"\n",
    "baseurl = f\"http://api.weatherapi.com/v1/current.json?key={key}&q={city}\"\n",
    "response = requests.get(baseurl)"
   ]
  },
  {
   "cell_type": "code",
   "execution_count": 6,
   "id": "62b036b3",
   "metadata": {},
   "outputs": [
    {
     "data": {
      "text/plain": [
       "200"
      ]
     },
     "execution_count": 6,
     "metadata": {},
     "output_type": "execute_result"
    }
   ],
   "source": [
    "response.status_code"
   ]
  },
  {
   "cell_type": "code",
   "execution_count": 7,
   "id": "9cad0547",
   "metadata": {},
   "outputs": [
    {
     "data": {
      "text/plain": [
       "{'location': {'name': 'Louisville',\n",
       "  'region': 'Kentucky',\n",
       "  'country': 'United States of America',\n",
       "  'lat': 38.2542,\n",
       "  'lon': -85.7594,\n",
       "  'tz_id': 'America/Kentucky/Louisville',\n",
       "  'localtime_epoch': 1758146810,\n",
       "  'localtime': '2025-09-17 18:06'},\n",
       " 'current': {'last_updated_epoch': 1758146400,\n",
       "  'last_updated': '2025-09-17 18:00',\n",
       "  'temp_c': 31.1,\n",
       "  'temp_f': 88.0,\n",
       "  'is_day': 1,\n",
       "  'condition': {'text': 'Sunny',\n",
       "   'icon': '//cdn.weatherapi.com/weather/64x64/day/113.png',\n",
       "   'code': 1000},\n",
       "  'wind_mph': 4.0,\n",
       "  'wind_kph': 6.5,\n",
       "  'wind_degree': 319,\n",
       "  'wind_dir': 'NW',\n",
       "  'pressure_mb': 1016.0,\n",
       "  'pressure_in': 30.0,\n",
       "  'precip_mm': 0.0,\n",
       "  'precip_in': 0.0,\n",
       "  'humidity': 32,\n",
       "  'cloud': 0,\n",
       "  'feelslike_c': 31.2,\n",
       "  'feelslike_f': 88.2,\n",
       "  'windchill_c': 31.3,\n",
       "  'windchill_f': 88.3,\n",
       "  'heatindex_c': 31.7,\n",
       "  'heatindex_f': 89.0,\n",
       "  'dewpoint_c': 15.5,\n",
       "  'dewpoint_f': 59.9,\n",
       "  'vis_km': 16.0,\n",
       "  'vis_miles': 9.0,\n",
       "  'uv': 1.0,\n",
       "  'gust_mph': 5.0,\n",
       "  'gust_kph': 8.1,\n",
       "  'short_rad': 608.94,\n",
       "  'diff_rad': 90.7,\n",
       "  'dni': 0.0,\n",
       "  'gti': 94.03}}"
      ]
     },
     "execution_count": 7,
     "metadata": {},
     "output_type": "execute_result"
    }
   ],
   "source": [
    "data = response.json()\n",
    "data"
   ]
  },
  {
   "cell_type": "code",
   "execution_count": 8,
   "id": "8663a7da",
   "metadata": {},
   "outputs": [],
   "source": [
    "current = data['current']\n",
    "location = data['location']\n",
    "temp_f = current['temp_f']\n",
    "wind_mph = current['wind_mph']\n",
    "humidity = current['humidity']"
   ]
  },
  {
   "cell_type": "code",
   "execution_count": 9,
   "id": "b9c790e6",
   "metadata": {},
   "outputs": [
    {
     "data": {
      "text/plain": [
       "(88.0, 32)"
      ]
     },
     "execution_count": 9,
     "metadata": {},
     "output_type": "execute_result"
    }
   ],
   "source": [
    "temp_f, humidity"
   ]
  },
  {
   "cell_type": "code",
   "execution_count": 10,
   "id": "65277508",
   "metadata": {},
   "outputs": [],
   "source": [
    "def get_weather(city):\n",
    "    url = f\"http://api.weatherapi.com/v1/current.json?key={key}&q={city}\"\n",
    "    response = requests.get(url)\n",
    "    if response.status_code == 200:\n",
    "        data = response.json()\n",
    "        current = data['current']\n",
    "        location = data['location']\n",
    "        temp_f = current['temp_f']\n",
    "        wind_mph = current['wind_mph']\n",
    "        humidity = current['humidity']\n",
    "\n",
    "        print(f\"Weather for {location['name']}, {location['region']}\")\n",
    "        print(f\"Temperature: {current['temp_f']} °F / {current['temp_c']} °C\")\n",
    "        print(f\"Condition: {current['condition']['text']}\")\n",
    "        print(f\"Humidity: {current['humidity']}%\")\n",
    "        print(f\"Wind Speed: {current['wind_mph']} mph\")\n",
    "\n",
    "    else:\n",
    "        print(f\"Error fetching data for {city}: {response.status_code}\")"
   ]
  },
  {
   "cell_type": "code",
   "execution_count": 11,
   "id": "d552a06b",
   "metadata": {},
   "outputs": [
    {
     "name": "stdout",
     "output_type": "stream",
     "text": [
      "Weather for Louisville, Kentucky\n",
      "Temperature: 88.0 °F / 31.1 °C\n",
      "Condition: Sunny\n",
      "Humidity: 32%\n",
      "Wind Speed: 4.0 mph\n"
     ]
    }
   ],
   "source": [
    "get_weather(\"Louisville\")"
   ]
  },
  {
   "cell_type": "code",
   "execution_count": 12,
   "id": "f69c014d",
   "metadata": {},
   "outputs": [
    {
     "name": "stdout",
     "output_type": "stream",
     "text": [
      "Weather for Lexington-Fayette, Kentucky\n",
      "Temperature: 86.4 °F / 30.2 °C\n",
      "Condition: Sunny\n",
      "Humidity: 29%\n",
      "Wind Speed: 4.0 mph\n"
     ]
    }
   ],
   "source": [
    "get_weather(\"Lexington\")"
   ]
  },
  {
   "cell_type": "code",
   "execution_count": 13,
   "id": "459213c7",
   "metadata": {},
   "outputs": [
    {
     "name": "stdout",
     "output_type": "stream",
     "text": [
      "Error fetching data for Hnodulu: 400\n"
     ]
    }
   ],
   "source": [
    "get_weather(\"Hnodulu\")"
   ]
  },
  {
   "cell_type": "code",
   "execution_count": 14,
   "id": "c8cf8e55",
   "metadata": {},
   "outputs": [],
   "source": [
    "#for city in cities:\n",
    " #   weather_data.append(get_weather(city))"
   ]
  },
  {
   "cell_type": "code",
   "execution_count": 15,
   "id": "9ea09bc9",
   "metadata": {},
   "outputs": [],
   "source": [
    "cities = [\"Kapaa\", \"Louisville\", \"Morehead\", \"Seoul\", \"New York\", \"Leeds\"]\n",
    "weather_data = []\n",
    "\n",
    "for city in cities:\n",
    "    url = f\"http://api.weatherapi.com/v1/current.json?key={key}&q={city}\"\n",
    "    response = requests.get(url)\n",
    "\n",
    "    if response.status_code == 200:\n",
    "        data = response.json()\n",
    "        weather_data.append({\n",
    "            \"City\": data['location']['name'],\n",
    "            \"Temperature\": data['current'] ['temp_f'],\n",
    "            \"Condition\": data['current']['condition']['text'],\n",
    "            \"Humidity\": data['current']['humidity'],\n",
    "            \"Wind Speed\": data['current']['wind_mph']\n",
    "        })\n",
    "    else:\n",
    "        print(\"Error fetching data\")"
   ]
  },
  {
   "cell_type": "code",
   "execution_count": 16,
   "id": "5b630b0b",
   "metadata": {},
   "outputs": [
    {
     "data": {
      "text/plain": [
       "[{'City': 'Kapaa',\n",
       "  'Temperature': 84.6,\n",
       "  'Condition': 'Partly cloudy',\n",
       "  'Humidity': 62,\n",
       "  'Wind Speed': 14.5},\n",
       " {'City': 'Louisville',\n",
       "  'Temperature': 88.0,\n",
       "  'Condition': 'Sunny',\n",
       "  'Humidity': 32,\n",
       "  'Wind Speed': 4.0},\n",
       " {'City': 'Morehead',\n",
       "  'Temperature': 78.5,\n",
       "  'Condition': 'Patchy rain nearby',\n",
       "  'Humidity': 85,\n",
       "  'Wind Speed': 7.4},\n",
       " {'City': 'Seoul',\n",
       "  'Temperature': 66.6,\n",
       "  'Condition': 'Partly cloudy',\n",
       "  'Humidity': 100,\n",
       "  'Wind Speed': 2.2},\n",
       " {'City': 'New York',\n",
       "  'Temperature': 68.4,\n",
       "  'Condition': 'Overcast',\n",
       "  'Humidity': 76,\n",
       "  'Wind Speed': 10.3},\n",
       " {'City': 'Leeds',\n",
       "  'Temperature': 57.2,\n",
       "  'Condition': 'Clear',\n",
       "  'Humidity': 82,\n",
       "  'Wind Speed': 11.6}]"
      ]
     },
     "execution_count": 16,
     "metadata": {},
     "output_type": "execute_result"
    }
   ],
   "source": [
    "weather_data"
   ]
  },
  {
   "cell_type": "code",
   "execution_count": 17,
   "id": "82ca61ed",
   "metadata": {},
   "outputs": [],
   "source": [
    "weather_df = pd.DataFrame(weather_data)"
   ]
  },
  {
   "cell_type": "code",
   "execution_count": 18,
   "id": "87f5f05a",
   "metadata": {},
   "outputs": [
    {
     "data": {
      "text/html": [
       "<div>\n",
       "<style scoped>\n",
       "    .dataframe tbody tr th:only-of-type {\n",
       "        vertical-align: middle;\n",
       "    }\n",
       "\n",
       "    .dataframe tbody tr th {\n",
       "        vertical-align: top;\n",
       "    }\n",
       "\n",
       "    .dataframe thead th {\n",
       "        text-align: right;\n",
       "    }\n",
       "</style>\n",
       "<table border=\"1\" class=\"dataframe\">\n",
       "  <thead>\n",
       "    <tr style=\"text-align: right;\">\n",
       "      <th></th>\n",
       "      <th>City</th>\n",
       "      <th>Temperature</th>\n",
       "      <th>Condition</th>\n",
       "      <th>Humidity</th>\n",
       "      <th>Wind Speed</th>\n",
       "    </tr>\n",
       "  </thead>\n",
       "  <tbody>\n",
       "    <tr>\n",
       "      <th>0</th>\n",
       "      <td>Kapaa</td>\n",
       "      <td>84.6</td>\n",
       "      <td>Partly cloudy</td>\n",
       "      <td>62</td>\n",
       "      <td>14.5</td>\n",
       "    </tr>\n",
       "    <tr>\n",
       "      <th>1</th>\n",
       "      <td>Louisville</td>\n",
       "      <td>88.0</td>\n",
       "      <td>Sunny</td>\n",
       "      <td>32</td>\n",
       "      <td>4.0</td>\n",
       "    </tr>\n",
       "    <tr>\n",
       "      <th>2</th>\n",
       "      <td>Morehead</td>\n",
       "      <td>78.5</td>\n",
       "      <td>Patchy rain nearby</td>\n",
       "      <td>85</td>\n",
       "      <td>7.4</td>\n",
       "    </tr>\n",
       "    <tr>\n",
       "      <th>3</th>\n",
       "      <td>Seoul</td>\n",
       "      <td>66.6</td>\n",
       "      <td>Partly cloudy</td>\n",
       "      <td>100</td>\n",
       "      <td>2.2</td>\n",
       "    </tr>\n",
       "    <tr>\n",
       "      <th>4</th>\n",
       "      <td>New York</td>\n",
       "      <td>68.4</td>\n",
       "      <td>Overcast</td>\n",
       "      <td>76</td>\n",
       "      <td>10.3</td>\n",
       "    </tr>\n",
       "  </tbody>\n",
       "</table>\n",
       "</div>"
      ],
      "text/plain": [
       "         City  Temperature           Condition  Humidity  Wind Speed\n",
       "0       Kapaa         84.6       Partly cloudy        62        14.5\n",
       "1  Louisville         88.0               Sunny        32         4.0\n",
       "2    Morehead         78.5  Patchy rain nearby        85         7.4\n",
       "3       Seoul         66.6       Partly cloudy       100         2.2\n",
       "4    New York         68.4            Overcast        76        10.3"
      ]
     },
     "execution_count": 18,
     "metadata": {},
     "output_type": "execute_result"
    }
   ],
   "source": [
    "weather_df.head()"
   ]
  },
  {
   "cell_type": "code",
   "execution_count": 19,
   "id": "8e01b99c",
   "metadata": {},
   "outputs": [],
   "source": [
    "weather_df.to_csv(\"sample_weather_data.csv\", index = False)"
   ]
  },
  {
   "cell_type": "code",
   "execution_count": null,
   "id": "8487e779",
   "metadata": {},
   "outputs": [],
   "source": []
  }
 ],
 "metadata": {
  "kernelspec": {
   "display_name": "Python 3",
   "language": "python",
   "name": "python3"
  },
  "language_info": {
   "codemirror_mode": {
    "name": "ipython",
    "version": 3
   },
   "file_extension": ".py",
   "mimetype": "text/x-python",
   "name": "python",
   "nbconvert_exporter": "python",
   "pygments_lexer": "ipython3",
   "version": "3.13.4"
  }
 },
 "nbformat": 4,
 "nbformat_minor": 5
}
