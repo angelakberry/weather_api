{
 "cells": [
  {
   "cell_type": "code",
   "execution_count": 1,
   "id": "c4103a56",
   "metadata": {},
   "outputs": [],
   "source": [
    "import requests\n",
    "import pandas as pd\n",
    "from datetime import datetime"
   ]
  },
  {
   "cell_type": "code",
   "execution_count": null,
   "id": "445de933",
   "metadata": {},
   "outputs": [],
   "source": [
    "api_key = #\"my_api_key\"\n",
    "baseurl = \"http://api.weatherapi.com/v1\""
   ]
  },
  {
   "cell_type": "code",
   "execution_count": 3,
   "id": "f7da16e9",
   "metadata": {},
   "outputs": [],
   "source": [
    "def get_city_data(city, api_key):\n",
    "    today = pd.Timestamp.now().strftime(\"%Y-%m-%d\")\n",
    "\n",
    "    # Current weather\n",
    "    current_url = f\"{baseurl}/current.json?key={api_key}&q={city}\"\n",
    "    current_response = requests.get(current_url)\n",
    "    current = current_response.json()['current']\n",
    "\n",
    "    # 3-day forecast\n",
    "    forecast_url = f\"{baseurl}/forecast.json?key={api_key}&q={city}&days=3\"\n",
    "    forecast_response = requests.get(forecast_url)\n",
    "    forecast_data = forecast_response.json()['forecast']['forecastday']\n",
    "\n",
    "    forecast_summary = []\n",
    "    for day in forecast_data:\n",
    "        date_obj = datetime.strptime(day['date'], '%Y-%m-%d')\n",
    "        formatted_date = date_obj.strftime('%A, %B %#d')\n",
    "        forecast_summary.append(\n",
    "            f\"{formatted_date}: High {day['day']['maxtemp_f']}F, Low {day['day']['mintemp_f']}F - {day['day']['condition']['text']}\"\n",
    "        )\n",
    "\n",
    "    # Astronomy data\n",
    "    astronomy_url = f\"{baseurl}/astronomy.json?key={api_key}&q={city}&dt={today}\"\n",
    "    astronomy_response = requests.get(astronomy_url)\n",
    "    astronomy = astronomy_response.json()['astronomy']['astro']\n",
    "\n",
    "    # Summary dictionary\n",
    "    summary = {\n",
    "        'City': city,\n",
    "        'Temperature (F)': current['temp_f'],\n",
    "        'Condition': current['condition']['text'],\n",
    "        'Humidity': current['humidity'],\n",
    "        'Wind (mph)': current['wind_mph'],\n",
    "        'Sunrise': astronomy['sunrise'],\n",
    "        'Sunset': astronomy['sunset'],\n",
    "        '3-Day Forecast': \" | \".join(forecast_summary)\n",
    "    }\n",
    "\n",
    "    return summary"
   ]
  },
  {
   "cell_type": "code",
   "execution_count": 4,
   "id": "ef709199",
   "metadata": {},
   "outputs": [],
   "source": [
    "# Cities list\n",
    "cities = ['Louisville', 'New York', 'Los Angeles', 'Chicago', 'Miami']"
   ]
  },
  {
   "cell_type": "code",
   "execution_count": 5,
   "id": "99840fd1",
   "metadata": {},
   "outputs": [],
   "source": [
    "# Data for all cities\n",
    "city_data_list = []\n",
    "for city in cities:\n",
    "    city_data = get_city_data(city, api_key)\n",
    "    city_data_list.append(city_data)"
   ]
  },
  {
   "cell_type": "code",
   "execution_count": 6,
   "id": "7dd817d2",
   "metadata": {},
   "outputs": [],
   "source": [
    "#Dataframe\n",
    "df = pd.DataFrame(city_data_list)"
   ]
  },
  {
   "cell_type": "code",
   "execution_count": 7,
   "id": "efb9ca9d",
   "metadata": {},
   "outputs": [
    {
     "name": "stdout",
     "output_type": "stream",
     "text": [
      "          City  Temperature (F)      Condition  Humidity  Wind (mph)  \\\n",
      "0   Louisville             73.0          Clear        55         3.6   \n",
      "1     New York             69.1  Partly cloudy        73         8.9   \n",
      "2  Los Angeles             71.1  Partly cloudy        76         4.9   \n",
      "3      Chicago             75.0          Clear        54         4.3   \n",
      "4        Miami             81.0       Overcast        79        16.3   \n",
      "\n",
      "    Sunrise    Sunset                                     3-Day Forecast  \n",
      "0  07:27 AM  07:48 PM  Wednesday, September 17: High 93.2F, Low 67.1F...  \n",
      "1  06:39 AM  07:01 PM  Wednesday, September 17: High 66.9F, Low 61.5F...  \n",
      "2  06:38 AM  06:56 PM  Wednesday, September 17: High 85.3F, Low 73.0F...  \n",
      "3  06:33 AM  06:56 PM  Wednesday, September 17: High 79.5F, Low 63.9F...  \n",
      "4  07:08 AM  07:23 PM  Wednesday, September 17: High 86.5F, Low 76.6F...  \n"
     ]
    }
   ],
   "source": [
    "# Show the DataFrame\n",
    "print(df)"
   ]
  },
  {
   "cell_type": "code",
   "execution_count": null,
   "id": "58239299",
   "metadata": {},
   "outputs": [],
   "source": [
    "# Save to CSV\n",
    "df.to_csv(\"weather_summary.csv\", index=False)"
   ]
  }
 ],
 "metadata": {
  "kernelspec": {
   "display_name": "Python 3",
   "language": "python",
   "name": "python3"
  },
  "language_info": {
   "codemirror_mode": {
    "name": "ipython",
    "version": 3
   },
   "file_extension": ".py",
   "mimetype": "text/x-python",
   "name": "python",
   "nbconvert_exporter": "python",
   "pygments_lexer": "ipython3",
   "version": "3.13.4"
  }
 },
 "nbformat": 4,
 "nbformat_minor": 5
}
